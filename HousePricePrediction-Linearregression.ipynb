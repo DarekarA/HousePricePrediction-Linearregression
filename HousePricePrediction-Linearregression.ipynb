{
 "cells": [
  {
   "cell_type": "code",
   "execution_count": 2,
   "metadata": {},
   "outputs": [],
   "source": [
    "import pandas as pd\n",
    "import numpy as np\n",
    "import matplotlib.pyplot as plt\n",
    "import seaborn as sns\n",
    "\n",
    "import warnings\n",
    "warnings.filterwarnings('ignore')\n",
    "\n",
    "import os\n",
    "os.chdir(\"F:/Machine Learning/Imarticus LMS/Linear Regression/Dataset\")"
   ]
  },
  {
   "cell_type": "code",
   "execution_count": 3,
   "metadata": {},
   "outputs": [
    {
     "data": {
      "text/html": [
       "<div>\n",
       "<style scoped>\n",
       "    .dataframe tbody tr th:only-of-type {\n",
       "        vertical-align: middle;\n",
       "    }\n",
       "\n",
       "    .dataframe tbody tr th {\n",
       "        vertical-align: top;\n",
       "    }\n",
       "\n",
       "    .dataframe thead th {\n",
       "        text-align: right;\n",
       "    }\n",
       "</style>\n",
       "<table border=\"1\" class=\"dataframe\">\n",
       "  <thead>\n",
       "    <tr style=\"text-align: right;\">\n",
       "      <th></th>\n",
       "      <th>Id</th>\n",
       "      <th>MSSubClass</th>\n",
       "      <th>MSZoning</th>\n",
       "      <th>LotFrontage</th>\n",
       "      <th>LotArea</th>\n",
       "      <th>Street</th>\n",
       "      <th>Alley</th>\n",
       "      <th>LotShape</th>\n",
       "      <th>LandContour</th>\n",
       "      <th>Utilities</th>\n",
       "      <th>...</th>\n",
       "      <th>PoolArea</th>\n",
       "      <th>PoolQC</th>\n",
       "      <th>Fence</th>\n",
       "      <th>MiscFeature</th>\n",
       "      <th>MiscVal</th>\n",
       "      <th>MoSold</th>\n",
       "      <th>YrSold</th>\n",
       "      <th>SaleType</th>\n",
       "      <th>SaleCondition</th>\n",
       "      <th>SalePrice</th>\n",
       "    </tr>\n",
       "  </thead>\n",
       "  <tbody>\n",
       "    <tr>\n",
       "      <th>0</th>\n",
       "      <td>1</td>\n",
       "      <td>60</td>\n",
       "      <td>RL</td>\n",
       "      <td>65.0</td>\n",
       "      <td>8450</td>\n",
       "      <td>Pave</td>\n",
       "      <td>NaN</td>\n",
       "      <td>Reg</td>\n",
       "      <td>Lvl</td>\n",
       "      <td>AllPub</td>\n",
       "      <td>...</td>\n",
       "      <td>0</td>\n",
       "      <td>NaN</td>\n",
       "      <td>NaN</td>\n",
       "      <td>NaN</td>\n",
       "      <td>0</td>\n",
       "      <td>2</td>\n",
       "      <td>2008</td>\n",
       "      <td>WD</td>\n",
       "      <td>Normal</td>\n",
       "      <td>208500</td>\n",
       "    </tr>\n",
       "    <tr>\n",
       "      <th>1</th>\n",
       "      <td>2</td>\n",
       "      <td>20</td>\n",
       "      <td>RL</td>\n",
       "      <td>80.0</td>\n",
       "      <td>9600</td>\n",
       "      <td>Pave</td>\n",
       "      <td>NaN</td>\n",
       "      <td>Reg</td>\n",
       "      <td>Lvl</td>\n",
       "      <td>AllPub</td>\n",
       "      <td>...</td>\n",
       "      <td>0</td>\n",
       "      <td>NaN</td>\n",
       "      <td>NaN</td>\n",
       "      <td>NaN</td>\n",
       "      <td>0</td>\n",
       "      <td>5</td>\n",
       "      <td>2007</td>\n",
       "      <td>WD</td>\n",
       "      <td>Normal</td>\n",
       "      <td>181500</td>\n",
       "    </tr>\n",
       "    <tr>\n",
       "      <th>2</th>\n",
       "      <td>3</td>\n",
       "      <td>60</td>\n",
       "      <td>RL</td>\n",
       "      <td>68.0</td>\n",
       "      <td>11250</td>\n",
       "      <td>Pave</td>\n",
       "      <td>NaN</td>\n",
       "      <td>IR1</td>\n",
       "      <td>Lvl</td>\n",
       "      <td>AllPub</td>\n",
       "      <td>...</td>\n",
       "      <td>0</td>\n",
       "      <td>NaN</td>\n",
       "      <td>NaN</td>\n",
       "      <td>NaN</td>\n",
       "      <td>0</td>\n",
       "      <td>9</td>\n",
       "      <td>2008</td>\n",
       "      <td>WD</td>\n",
       "      <td>Normal</td>\n",
       "      <td>223500</td>\n",
       "    </tr>\n",
       "    <tr>\n",
       "      <th>3</th>\n",
       "      <td>4</td>\n",
       "      <td>70</td>\n",
       "      <td>RL</td>\n",
       "      <td>60.0</td>\n",
       "      <td>9550</td>\n",
       "      <td>Pave</td>\n",
       "      <td>NaN</td>\n",
       "      <td>IR1</td>\n",
       "      <td>Lvl</td>\n",
       "      <td>AllPub</td>\n",
       "      <td>...</td>\n",
       "      <td>0</td>\n",
       "      <td>NaN</td>\n",
       "      <td>NaN</td>\n",
       "      <td>NaN</td>\n",
       "      <td>0</td>\n",
       "      <td>2</td>\n",
       "      <td>2006</td>\n",
       "      <td>WD</td>\n",
       "      <td>Abnorml</td>\n",
       "      <td>140000</td>\n",
       "    </tr>\n",
       "    <tr>\n",
       "      <th>4</th>\n",
       "      <td>5</td>\n",
       "      <td>60</td>\n",
       "      <td>RL</td>\n",
       "      <td>84.0</td>\n",
       "      <td>14260</td>\n",
       "      <td>Pave</td>\n",
       "      <td>NaN</td>\n",
       "      <td>IR1</td>\n",
       "      <td>Lvl</td>\n",
       "      <td>AllPub</td>\n",
       "      <td>...</td>\n",
       "      <td>0</td>\n",
       "      <td>NaN</td>\n",
       "      <td>NaN</td>\n",
       "      <td>NaN</td>\n",
       "      <td>0</td>\n",
       "      <td>12</td>\n",
       "      <td>2008</td>\n",
       "      <td>WD</td>\n",
       "      <td>Normal</td>\n",
       "      <td>250000</td>\n",
       "    </tr>\n",
       "  </tbody>\n",
       "</table>\n",
       "<p>5 rows × 81 columns</p>\n",
       "</div>"
      ],
      "text/plain": [
       "   Id  MSSubClass MSZoning  LotFrontage  LotArea Street Alley LotShape  \\\n",
       "0   1          60       RL         65.0     8450   Pave   NaN      Reg   \n",
       "1   2          20       RL         80.0     9600   Pave   NaN      Reg   \n",
       "2   3          60       RL         68.0    11250   Pave   NaN      IR1   \n",
       "3   4          70       RL         60.0     9550   Pave   NaN      IR1   \n",
       "4   5          60       RL         84.0    14260   Pave   NaN      IR1   \n",
       "\n",
       "  LandContour Utilities  ... PoolArea PoolQC Fence MiscFeature MiscVal MoSold  \\\n",
       "0         Lvl    AllPub  ...        0    NaN   NaN         NaN       0      2   \n",
       "1         Lvl    AllPub  ...        0    NaN   NaN         NaN       0      5   \n",
       "2         Lvl    AllPub  ...        0    NaN   NaN         NaN       0      9   \n",
       "3         Lvl    AllPub  ...        0    NaN   NaN         NaN       0      2   \n",
       "4         Lvl    AllPub  ...        0    NaN   NaN         NaN       0     12   \n",
       "\n",
       "  YrSold  SaleType  SaleCondition  SalePrice  \n",
       "0   2008        WD         Normal     208500  \n",
       "1   2007        WD         Normal     181500  \n",
       "2   2008        WD         Normal     223500  \n",
       "3   2006        WD        Abnorml     140000  \n",
       "4   2008        WD         Normal     250000  \n",
       "\n",
       "[5 rows x 81 columns]"
      ]
     },
     "execution_count": 3,
     "metadata": {},
     "output_type": "execute_result"
    }
   ],
   "source": [
    "data = pd.read_csv(\"train.csv\")\n",
    "data.head()"
   ]
  },
  {
   "cell_type": "code",
   "execution_count": 4,
   "metadata": {},
   "outputs": [],
   "source": [
    "data=data.drop([\"Id\",\"FireplaceQu\"],axis=1)\n",
    "\n",
    "# Deleting FireplaceQu Because it was giving Problems while predicting : test.csv"
   ]
  },
  {
   "cell_type": "markdown",
   "metadata": {},
   "source": [
    "## 1. Pre Processing"
   ]
  },
  {
   "cell_type": "code",
   "execution_count": 5,
   "metadata": {},
   "outputs": [
    {
     "data": {
      "text/plain": [
       "(1460, 79)"
      ]
     },
     "execution_count": 5,
     "metadata": {},
     "output_type": "execute_result"
    }
   ],
   "source": [
    "data.shape"
   ]
  },
  {
   "cell_type": "code",
   "execution_count": 77,
   "metadata": {},
   "outputs": [
    {
     "data": {
      "text/plain": [
       "count      1460.000000\n",
       "mean     180921.195890\n",
       "std       79442.502883\n",
       "min       34900.000000\n",
       "25%      129975.000000\n",
       "50%      163000.000000\n",
       "75%      214000.000000\n",
       "85%      250000.000000\n",
       "90%      278000.000000\n",
       "95%      326100.000000\n",
       "99%      442567.010000\n",
       "max      755000.000000\n",
       "Name: SalePrice, dtype: float64"
      ]
     },
     "execution_count": 77,
     "metadata": {},
     "output_type": "execute_result"
    }
   ],
   "source": [
    "data.SalePrice.describe(percentiles=[.25, .5, .75 , .85 , .90 , .95 , .99])\n",
    "\n",
    "# Only 5% have price > 326100.000000\n",
    "# Only 1% have price > 442567.010000"
   ]
  },
  {
   "cell_type": "code",
   "execution_count": 78,
   "metadata": {
    "collapsed": true
   },
   "outputs": [
    {
     "data": {
      "text/html": [
       "<div>\n",
       "<style scoped>\n",
       "    .dataframe tbody tr th:only-of-type {\n",
       "        vertical-align: middle;\n",
       "    }\n",
       "\n",
       "    .dataframe tbody tr th {\n",
       "        vertical-align: top;\n",
       "    }\n",
       "\n",
       "    .dataframe thead th {\n",
       "        text-align: right;\n",
       "    }\n",
       "</style>\n",
       "<table border=\"1\" class=\"dataframe\">\n",
       "  <thead>\n",
       "    <tr style=\"text-align: right;\">\n",
       "      <th></th>\n",
       "      <th>MSSubClass</th>\n",
       "      <th>MSZoning</th>\n",
       "      <th>LotFrontage</th>\n",
       "      <th>LotArea</th>\n",
       "      <th>Street</th>\n",
       "      <th>LotShape</th>\n",
       "      <th>LandContour</th>\n",
       "      <th>Utilities</th>\n",
       "      <th>LotConfig</th>\n",
       "      <th>LandSlope</th>\n",
       "      <th>...</th>\n",
       "      <th>EnclosedPorch</th>\n",
       "      <th>3SsnPorch</th>\n",
       "      <th>ScreenPorch</th>\n",
       "      <th>PoolArea</th>\n",
       "      <th>MiscVal</th>\n",
       "      <th>MoSold</th>\n",
       "      <th>YrSold</th>\n",
       "      <th>SaleType</th>\n",
       "      <th>SaleCondition</th>\n",
       "      <th>SalePrice</th>\n",
       "    </tr>\n",
       "  </thead>\n",
       "  <tbody>\n",
       "    <tr>\n",
       "      <th>count</th>\n",
       "      <td>1460.000000</td>\n",
       "      <td>1460.000000</td>\n",
       "      <td>1460.000000</td>\n",
       "      <td>1460.000000</td>\n",
       "      <td>1460.000000</td>\n",
       "      <td>1460.000000</td>\n",
       "      <td>1460.000000</td>\n",
       "      <td>1460.000000</td>\n",
       "      <td>1460.000000</td>\n",
       "      <td>1460.000000</td>\n",
       "      <td>...</td>\n",
       "      <td>1460.000000</td>\n",
       "      <td>1460.000000</td>\n",
       "      <td>1460.000000</td>\n",
       "      <td>1460.000000</td>\n",
       "      <td>1460.000000</td>\n",
       "      <td>1460.000000</td>\n",
       "      <td>1460.000000</td>\n",
       "      <td>1460.000000</td>\n",
       "      <td>1460.000000</td>\n",
       "      <td>1460.000000</td>\n",
       "    </tr>\n",
       "    <tr>\n",
       "      <th>mean</th>\n",
       "      <td>56.897260</td>\n",
       "      <td>3.028767</td>\n",
       "      <td>69.863699</td>\n",
       "      <td>10516.828082</td>\n",
       "      <td>0.995890</td>\n",
       "      <td>1.942466</td>\n",
       "      <td>2.777397</td>\n",
       "      <td>0.000685</td>\n",
       "      <td>3.019178</td>\n",
       "      <td>0.062329</td>\n",
       "      <td>...</td>\n",
       "      <td>21.954110</td>\n",
       "      <td>3.409589</td>\n",
       "      <td>15.060959</td>\n",
       "      <td>2.758904</td>\n",
       "      <td>43.489041</td>\n",
       "      <td>6.321918</td>\n",
       "      <td>2007.815753</td>\n",
       "      <td>7.513014</td>\n",
       "      <td>3.770548</td>\n",
       "      <td>180921.195890</td>\n",
       "    </tr>\n",
       "    <tr>\n",
       "      <th>std</th>\n",
       "      <td>42.300571</td>\n",
       "      <td>0.632017</td>\n",
       "      <td>22.027677</td>\n",
       "      <td>9981.264932</td>\n",
       "      <td>0.063996</td>\n",
       "      <td>1.409156</td>\n",
       "      <td>0.707666</td>\n",
       "      <td>0.026171</td>\n",
       "      <td>1.622634</td>\n",
       "      <td>0.276232</td>\n",
       "      <td>...</td>\n",
       "      <td>61.119149</td>\n",
       "      <td>29.317331</td>\n",
       "      <td>55.757415</td>\n",
       "      <td>40.177307</td>\n",
       "      <td>496.123024</td>\n",
       "      <td>2.703626</td>\n",
       "      <td>1.328095</td>\n",
       "      <td>1.552100</td>\n",
       "      <td>1.100854</td>\n",
       "      <td>79442.502883</td>\n",
       "    </tr>\n",
       "    <tr>\n",
       "      <th>min</th>\n",
       "      <td>20.000000</td>\n",
       "      <td>0.000000</td>\n",
       "      <td>21.000000</td>\n",
       "      <td>1300.000000</td>\n",
       "      <td>0.000000</td>\n",
       "      <td>0.000000</td>\n",
       "      <td>0.000000</td>\n",
       "      <td>0.000000</td>\n",
       "      <td>0.000000</td>\n",
       "      <td>0.000000</td>\n",
       "      <td>...</td>\n",
       "      <td>0.000000</td>\n",
       "      <td>0.000000</td>\n",
       "      <td>0.000000</td>\n",
       "      <td>0.000000</td>\n",
       "      <td>0.000000</td>\n",
       "      <td>1.000000</td>\n",
       "      <td>2006.000000</td>\n",
       "      <td>0.000000</td>\n",
       "      <td>0.000000</td>\n",
       "      <td>34900.000000</td>\n",
       "    </tr>\n",
       "    <tr>\n",
       "      <th>25%</th>\n",
       "      <td>20.000000</td>\n",
       "      <td>3.000000</td>\n",
       "      <td>60.000000</td>\n",
       "      <td>7553.500000</td>\n",
       "      <td>1.000000</td>\n",
       "      <td>0.000000</td>\n",
       "      <td>3.000000</td>\n",
       "      <td>0.000000</td>\n",
       "      <td>2.000000</td>\n",
       "      <td>0.000000</td>\n",
       "      <td>...</td>\n",
       "      <td>0.000000</td>\n",
       "      <td>0.000000</td>\n",
       "      <td>0.000000</td>\n",
       "      <td>0.000000</td>\n",
       "      <td>0.000000</td>\n",
       "      <td>5.000000</td>\n",
       "      <td>2007.000000</td>\n",
       "      <td>8.000000</td>\n",
       "      <td>4.000000</td>\n",
       "      <td>129975.000000</td>\n",
       "    </tr>\n",
       "    <tr>\n",
       "      <th>50%</th>\n",
       "      <td>50.000000</td>\n",
       "      <td>3.000000</td>\n",
       "      <td>69.000000</td>\n",
       "      <td>9478.500000</td>\n",
       "      <td>1.000000</td>\n",
       "      <td>3.000000</td>\n",
       "      <td>3.000000</td>\n",
       "      <td>0.000000</td>\n",
       "      <td>4.000000</td>\n",
       "      <td>0.000000</td>\n",
       "      <td>...</td>\n",
       "      <td>0.000000</td>\n",
       "      <td>0.000000</td>\n",
       "      <td>0.000000</td>\n",
       "      <td>0.000000</td>\n",
       "      <td>0.000000</td>\n",
       "      <td>6.000000</td>\n",
       "      <td>2008.000000</td>\n",
       "      <td>8.000000</td>\n",
       "      <td>4.000000</td>\n",
       "      <td>163000.000000</td>\n",
       "    </tr>\n",
       "    <tr>\n",
       "      <th>75%</th>\n",
       "      <td>70.000000</td>\n",
       "      <td>3.000000</td>\n",
       "      <td>79.000000</td>\n",
       "      <td>11601.500000</td>\n",
       "      <td>1.000000</td>\n",
       "      <td>3.000000</td>\n",
       "      <td>3.000000</td>\n",
       "      <td>0.000000</td>\n",
       "      <td>4.000000</td>\n",
       "      <td>0.000000</td>\n",
       "      <td>...</td>\n",
       "      <td>0.000000</td>\n",
       "      <td>0.000000</td>\n",
       "      <td>0.000000</td>\n",
       "      <td>0.000000</td>\n",
       "      <td>0.000000</td>\n",
       "      <td>8.000000</td>\n",
       "      <td>2009.000000</td>\n",
       "      <td>8.000000</td>\n",
       "      <td>4.000000</td>\n",
       "      <td>214000.000000</td>\n",
       "    </tr>\n",
       "    <tr>\n",
       "      <th>max</th>\n",
       "      <td>190.000000</td>\n",
       "      <td>4.000000</td>\n",
       "      <td>313.000000</td>\n",
       "      <td>215245.000000</td>\n",
       "      <td>1.000000</td>\n",
       "      <td>3.000000</td>\n",
       "      <td>3.000000</td>\n",
       "      <td>1.000000</td>\n",
       "      <td>4.000000</td>\n",
       "      <td>2.000000</td>\n",
       "      <td>...</td>\n",
       "      <td>552.000000</td>\n",
       "      <td>508.000000</td>\n",
       "      <td>480.000000</td>\n",
       "      <td>738.000000</td>\n",
       "      <td>15500.000000</td>\n",
       "      <td>12.000000</td>\n",
       "      <td>2010.000000</td>\n",
       "      <td>8.000000</td>\n",
       "      <td>5.000000</td>\n",
       "      <td>755000.000000</td>\n",
       "    </tr>\n",
       "  </tbody>\n",
       "</table>\n",
       "<p>8 rows × 75 columns</p>\n",
       "</div>"
      ],
      "text/plain": [
       "        MSSubClass     MSZoning  LotFrontage        LotArea       Street  \\\n",
       "count  1460.000000  1460.000000  1460.000000    1460.000000  1460.000000   \n",
       "mean     56.897260     3.028767    69.863699   10516.828082     0.995890   \n",
       "std      42.300571     0.632017    22.027677    9981.264932     0.063996   \n",
       "min      20.000000     0.000000    21.000000    1300.000000     0.000000   \n",
       "25%      20.000000     3.000000    60.000000    7553.500000     1.000000   \n",
       "50%      50.000000     3.000000    69.000000    9478.500000     1.000000   \n",
       "75%      70.000000     3.000000    79.000000   11601.500000     1.000000   \n",
       "max     190.000000     4.000000   313.000000  215245.000000     1.000000   \n",
       "\n",
       "          LotShape  LandContour    Utilities    LotConfig    LandSlope  ...  \\\n",
       "count  1460.000000  1460.000000  1460.000000  1460.000000  1460.000000  ...   \n",
       "mean      1.942466     2.777397     0.000685     3.019178     0.062329  ...   \n",
       "std       1.409156     0.707666     0.026171     1.622634     0.276232  ...   \n",
       "min       0.000000     0.000000     0.000000     0.000000     0.000000  ...   \n",
       "25%       0.000000     3.000000     0.000000     2.000000     0.000000  ...   \n",
       "50%       3.000000     3.000000     0.000000     4.000000     0.000000  ...   \n",
       "75%       3.000000     3.000000     0.000000     4.000000     0.000000  ...   \n",
       "max       3.000000     3.000000     1.000000     4.000000     2.000000  ...   \n",
       "\n",
       "       EnclosedPorch    3SsnPorch  ScreenPorch     PoolArea       MiscVal  \\\n",
       "count    1460.000000  1460.000000  1460.000000  1460.000000   1460.000000   \n",
       "mean       21.954110     3.409589    15.060959     2.758904     43.489041   \n",
       "std        61.119149    29.317331    55.757415    40.177307    496.123024   \n",
       "min         0.000000     0.000000     0.000000     0.000000      0.000000   \n",
       "25%         0.000000     0.000000     0.000000     0.000000      0.000000   \n",
       "50%         0.000000     0.000000     0.000000     0.000000      0.000000   \n",
       "75%         0.000000     0.000000     0.000000     0.000000      0.000000   \n",
       "max       552.000000   508.000000   480.000000   738.000000  15500.000000   \n",
       "\n",
       "            MoSold       YrSold     SaleType  SaleCondition      SalePrice  \n",
       "count  1460.000000  1460.000000  1460.000000    1460.000000    1460.000000  \n",
       "mean      6.321918  2007.815753     7.513014       3.770548  180921.195890  \n",
       "std       2.703626     1.328095     1.552100       1.100854   79442.502883  \n",
       "min       1.000000  2006.000000     0.000000       0.000000   34900.000000  \n",
       "25%       5.000000  2007.000000     8.000000       4.000000  129975.000000  \n",
       "50%       6.000000  2008.000000     8.000000       4.000000  163000.000000  \n",
       "75%       8.000000  2009.000000     8.000000       4.000000  214000.000000  \n",
       "max      12.000000  2010.000000     8.000000       5.000000  755000.000000  \n",
       "\n",
       "[8 rows x 75 columns]"
      ]
     },
     "execution_count": 78,
     "metadata": {},
     "output_type": "execute_result"
    }
   ],
   "source": [
    "data.describe()"
   ]
  },
  {
   "cell_type": "code",
   "execution_count": 7,
   "metadata": {
    "scrolled": true
   },
   "outputs": [
    {
     "name": "stdout",
     "output_type": "stream",
     "text": [
      "<class 'pandas.core.frame.DataFrame'>\n",
      "RangeIndex: 1460 entries, 0 to 1459\n",
      "Data columns (total 79 columns):\n",
      "MSSubClass       1460 non-null int64\n",
      "MSZoning         1460 non-null object\n",
      "LotFrontage      1201 non-null float64\n",
      "LotArea          1460 non-null int64\n",
      "Street           1460 non-null object\n",
      "Alley            91 non-null object\n",
      "LotShape         1460 non-null object\n",
      "LandContour      1460 non-null object\n",
      "Utilities        1460 non-null object\n",
      "LotConfig        1460 non-null object\n",
      "LandSlope        1460 non-null object\n",
      "Neighborhood     1460 non-null object\n",
      "Condition1       1460 non-null object\n",
      "Condition2       1460 non-null object\n",
      "BldgType         1460 non-null object\n",
      "HouseStyle       1460 non-null object\n",
      "OverallQual      1460 non-null int64\n",
      "OverallCond      1460 non-null int64\n",
      "YearBuilt        1460 non-null int64\n",
      "YearRemodAdd     1460 non-null int64\n",
      "RoofStyle        1460 non-null object\n",
      "RoofMatl         1460 non-null object\n",
      "Exterior1st      1460 non-null object\n",
      "Exterior2nd      1460 non-null object\n",
      "MasVnrType       1452 non-null object\n",
      "MasVnrArea       1452 non-null float64\n",
      "ExterQual        1460 non-null object\n",
      "ExterCond        1460 non-null object\n",
      "Foundation       1460 non-null object\n",
      "BsmtQual         1423 non-null object\n",
      "BsmtCond         1423 non-null object\n",
      "BsmtExposure     1422 non-null object\n",
      "BsmtFinType1     1423 non-null object\n",
      "BsmtFinSF1       1460 non-null int64\n",
      "BsmtFinType2     1422 non-null object\n",
      "BsmtFinSF2       1460 non-null int64\n",
      "BsmtUnfSF        1460 non-null int64\n",
      "TotalBsmtSF      1460 non-null int64\n",
      "Heating          1460 non-null object\n",
      "HeatingQC        1460 non-null object\n",
      "CentralAir       1460 non-null object\n",
      "Electrical       1459 non-null object\n",
      "1stFlrSF         1460 non-null int64\n",
      "2ndFlrSF         1460 non-null int64\n",
      "LowQualFinSF     1460 non-null int64\n",
      "GrLivArea        1460 non-null int64\n",
      "BsmtFullBath     1460 non-null int64\n",
      "BsmtHalfBath     1460 non-null int64\n",
      "FullBath         1460 non-null int64\n",
      "HalfBath         1460 non-null int64\n",
      "BedroomAbvGr     1460 non-null int64\n",
      "KitchenAbvGr     1460 non-null int64\n",
      "KitchenQual      1460 non-null object\n",
      "TotRmsAbvGrd     1460 non-null int64\n",
      "Functional       1460 non-null object\n",
      "Fireplaces       1460 non-null int64\n",
      "GarageType       1379 non-null object\n",
      "GarageYrBlt      1379 non-null float64\n",
      "GarageFinish     1379 non-null object\n",
      "GarageCars       1460 non-null int64\n",
      "GarageArea       1460 non-null int64\n",
      "GarageQual       1379 non-null object\n",
      "GarageCond       1379 non-null object\n",
      "PavedDrive       1460 non-null object\n",
      "WoodDeckSF       1460 non-null int64\n",
      "OpenPorchSF      1460 non-null int64\n",
      "EnclosedPorch    1460 non-null int64\n",
      "3SsnPorch        1460 non-null int64\n",
      "ScreenPorch      1460 non-null int64\n",
      "PoolArea         1460 non-null int64\n",
      "PoolQC           7 non-null object\n",
      "Fence            281 non-null object\n",
      "MiscFeature      54 non-null object\n",
      "MiscVal          1460 non-null int64\n",
      "MoSold           1460 non-null int64\n",
      "YrSold           1460 non-null int64\n",
      "SaleType         1460 non-null object\n",
      "SaleCondition    1460 non-null object\n",
      "SalePrice        1460 non-null int64\n",
      "dtypes: float64(3), int64(34), object(42)\n",
      "memory usage: 901.2+ KB\n"
     ]
    }
   ],
   "source": [
    "data.info()"
   ]
  },
  {
   "cell_type": "markdown",
   "metadata": {},
   "source": [
    "---"
   ]
  },
  {
   "cell_type": "markdown",
   "metadata": {},
   "source": [
    "### 1.1 Checking Null Values"
   ]
  },
  {
   "cell_type": "code",
   "execution_count": 8,
   "metadata": {},
   "outputs": [
    {
     "data": {
      "text/html": [
       "<div>\n",
       "<style scoped>\n",
       "    .dataframe tbody tr th:only-of-type {\n",
       "        vertical-align: middle;\n",
       "    }\n",
       "\n",
       "    .dataframe tbody tr th {\n",
       "        vertical-align: top;\n",
       "    }\n",
       "\n",
       "    .dataframe thead th {\n",
       "        text-align: right;\n",
       "    }\n",
       "</style>\n",
       "<table border=\"1\" class=\"dataframe\">\n",
       "  <thead>\n",
       "    <tr style=\"text-align: right;\">\n",
       "      <th></th>\n",
       "      <th>Missing_records</th>\n",
       "      <th>Missing %</th>\n",
       "    </tr>\n",
       "  </thead>\n",
       "  <tbody>\n",
       "    <tr>\n",
       "      <th>PoolQC</th>\n",
       "      <td>1453</td>\n",
       "      <td>0.995205</td>\n",
       "    </tr>\n",
       "    <tr>\n",
       "      <th>MiscFeature</th>\n",
       "      <td>1406</td>\n",
       "      <td>0.963014</td>\n",
       "    </tr>\n",
       "    <tr>\n",
       "      <th>Alley</th>\n",
       "      <td>1369</td>\n",
       "      <td>0.937671</td>\n",
       "    </tr>\n",
       "    <tr>\n",
       "      <th>Fence</th>\n",
       "      <td>1179</td>\n",
       "      <td>0.807534</td>\n",
       "    </tr>\n",
       "    <tr>\n",
       "      <th>LotFrontage</th>\n",
       "      <td>259</td>\n",
       "      <td>0.177397</td>\n",
       "    </tr>\n",
       "    <tr>\n",
       "      <th>GarageType</th>\n",
       "      <td>81</td>\n",
       "      <td>0.055479</td>\n",
       "    </tr>\n",
       "    <tr>\n",
       "      <th>GarageQual</th>\n",
       "      <td>81</td>\n",
       "      <td>0.055479</td>\n",
       "    </tr>\n",
       "    <tr>\n",
       "      <th>GarageCond</th>\n",
       "      <td>81</td>\n",
       "      <td>0.055479</td>\n",
       "    </tr>\n",
       "    <tr>\n",
       "      <th>GarageYrBlt</th>\n",
       "      <td>81</td>\n",
       "      <td>0.055479</td>\n",
       "    </tr>\n",
       "    <tr>\n",
       "      <th>GarageFinish</th>\n",
       "      <td>81</td>\n",
       "      <td>0.055479</td>\n",
       "    </tr>\n",
       "    <tr>\n",
       "      <th>BsmtExposure</th>\n",
       "      <td>38</td>\n",
       "      <td>0.026027</td>\n",
       "    </tr>\n",
       "    <tr>\n",
       "      <th>BsmtFinType2</th>\n",
       "      <td>38</td>\n",
       "      <td>0.026027</td>\n",
       "    </tr>\n",
       "    <tr>\n",
       "      <th>BsmtCond</th>\n",
       "      <td>37</td>\n",
       "      <td>0.025342</td>\n",
       "    </tr>\n",
       "    <tr>\n",
       "      <th>BsmtFinType1</th>\n",
       "      <td>37</td>\n",
       "      <td>0.025342</td>\n",
       "    </tr>\n",
       "    <tr>\n",
       "      <th>BsmtQual</th>\n",
       "      <td>37</td>\n",
       "      <td>0.025342</td>\n",
       "    </tr>\n",
       "    <tr>\n",
       "      <th>MasVnrArea</th>\n",
       "      <td>8</td>\n",
       "      <td>0.005479</td>\n",
       "    </tr>\n",
       "    <tr>\n",
       "      <th>MasVnrType</th>\n",
       "      <td>8</td>\n",
       "      <td>0.005479</td>\n",
       "    </tr>\n",
       "    <tr>\n",
       "      <th>Electrical</th>\n",
       "      <td>1</td>\n",
       "      <td>0.000685</td>\n",
       "    </tr>\n",
       "  </tbody>\n",
       "</table>\n",
       "</div>"
      ],
      "text/plain": [
       "              Missing_records  Missing %\n",
       "PoolQC                   1453   0.995205\n",
       "MiscFeature              1406   0.963014\n",
       "Alley                    1369   0.937671\n",
       "Fence                    1179   0.807534\n",
       "LotFrontage               259   0.177397\n",
       "GarageType                 81   0.055479\n",
       "GarageQual                 81   0.055479\n",
       "GarageCond                 81   0.055479\n",
       "GarageYrBlt                81   0.055479\n",
       "GarageFinish               81   0.055479\n",
       "BsmtExposure               38   0.026027\n",
       "BsmtFinType2               38   0.026027\n",
       "BsmtCond                   37   0.025342\n",
       "BsmtFinType1               37   0.025342\n",
       "BsmtQual                   37   0.025342\n",
       "MasVnrArea                  8   0.005479\n",
       "MasVnrType                  8   0.005479\n",
       "Electrical                  1   0.000685"
      ]
     },
     "execution_count": 8,
     "metadata": {},
     "output_type": "execute_result"
    }
   ],
   "source": [
    "Nulls = pd.DataFrame()\n",
    "Nulls[\"Missing_records\"] = (data.isna().sum().sort_values(ascending=False))\n",
    "Nulls[\"Missing %\"] = ((data.isna().sum() / data.shape[0])).sort_values(ascending=False)\n",
    "Nulls = Nulls[Nulls[\"Missing_records\"]>0]\n",
    "Nulls.head(25)"
   ]
  },
  {
   "cell_type": "code",
   "execution_count": 9,
   "metadata": {},
   "outputs": [
    {
     "data": {
      "text/plain": [
       "<matplotlib.axes._subplots.AxesSubplot at 0x2358c053308>"
      ]
     },
     "execution_count": 9,
     "metadata": {},
     "output_type": "execute_result"
    },
    {
     "data": {
      "image/png": "[encoded data removed]",
      "text/plain": [
       "<Figure size 432x288 with 1 Axes>"
      ]
     },
     "metadata": {
      "needs_background": "light"
     },
     "output_type": "display_data"
    }
   ],
   "source": [
    "Null = data.isna().sum()\n",
    "Null = Null[Null > 0]\n",
    "Null.sort_values(inplace=True)\n",
    "Null.plot.bar(cmap='gist_rainbow')"
   ]
  },
  {
   "cell_type": "markdown",
   "metadata": {},
   "source": [
    "### 1.2 Missing Data  Treatment  (Drop/Impute)\n",
    "\n",
    "- PoolQC,MiscFeature,Alley,Fence,FireplaceQu : They have more then 50% of the Data Missing, so we Drop them.\n",
    "- i.e if more than 690 Records Missing, we Drop them.\n",
    "\n",
    "\n",
    "\n",
    "- **We Use Median to Impute Numeric Data**\n",
    "- **We Use Mode to Impute Categorical Data**"
   ]
  },
  {
   "cell_type": "code",
   "execution_count": 10,
   "metadata": {},
   "outputs": [
    {
     "name": "stdout",
     "output_type": "stream",
     "text": [
      "Now we have Nulls in the following Numeric Columns : \n",
      "  ['LotFrontage', 'GarageYrBlt', 'MasVnrArea']\n",
      "\n",
      "\n",
      "Now we have Nulls in the following Categoric Columns : \n",
      "  ['GarageType', 'GarageQual', 'GarageCond', 'GarageFinish', 'BsmtExposure', 'BsmtFinType2', 'BsmtCond', 'BsmtFinType1', 'BsmtQual', 'MasVnrType', 'Electrical']\n"
     ]
    }
   ],
   "source": [
    "# Delete All columns from data where Missing Data is more than around 20% i.e 260 Missing records\n",
    "for i in range(0,Nulls.shape[0]):\n",
    "    if Nulls[\"Missing_records\"][i] > 690 :\n",
    "        data.drop([Nulls.index[i]],inplace=True,axis=1)\n",
    "                \n",
    "        \n",
    "# Make 2 different Lists For numeric and categorical Data, which will have only Column names and no data.\n",
    "# Few columns are deleted in above step, so those wont be included\n",
    "numeric_cols = data.select_dtypes(include=[\"int64\",\"float\"]).columns\n",
    "cat_cols = data.select_dtypes(include=\"object\").columns\n",
    "\n",
    "num_nulls = [] # Numeric columns which have nulls\n",
    "cat_nulls = [] # Categorical columns which have nulls\n",
    "for i in Nulls.index:\n",
    "    if i in numeric_cols:\n",
    "        num_nulls.append(i)\n",
    "    elif i in cat_cols:\n",
    "        cat_nulls.append(i)\n",
    "\n",
    "        \n",
    "print(\"Now we have Nulls in the following Numeric Columns : \\n \",num_nulls) \n",
    "print(\"\\n\")\n",
    "print(\"Now we have Nulls in the following Categoric Columns : \\n \",cat_nulls)        "
   ]
  },
  {
   "cell_type": "code",
   "execution_count": 11,
   "metadata": {},
   "outputs": [],
   "source": [
    "# Impute the Data for Numeric Columns\n",
    "\n",
    "for i in num_nulls:\n",
    "    #data.fillna(data[i].median , inplace=True)\n",
    "    data.fillna(data.median(),inplace=True)"
   ]
  },
  {
   "cell_type": "code",
   "execution_count": 12,
   "metadata": {},
   "outputs": [],
   "source": [
    "# Impute the Data for Categorical columns\n",
    "for i in cat_nulls:\n",
    "    data.fillna(data[i].mode()[0] , inplace=True) "
   ]
  },
  {
   "cell_type": "code",
   "execution_count": 13,
   "metadata": {},
   "outputs": [
    {
     "data": {
      "text/plain": [
       "SalePrice       0\n",
       "YearRemodAdd    0\n",
       "RoofMatl        0\n",
       "Exterior1st     0\n",
       "Exterior2nd     0\n",
       "               ..\n",
       "KitchenAbvGr    0\n",
       "KitchenQual     0\n",
       "TotRmsAbvGrd    0\n",
       "Functional      0\n",
       "MSSubClass      0\n",
       "Length: 75, dtype: int64"
      ]
     },
     "execution_count": 13,
     "metadata": {},
     "output_type": "execute_result"
    }
   ],
   "source": [
    "data.isna().sum().sort_values(ascending=False)\n",
    "\n",
    "# Now We have No Nulls Left"
   ]
  },
  {
   "cell_type": "markdown",
   "metadata": {},
   "source": [
    "---"
   ]
  },
  {
   "cell_type": "markdown",
   "metadata": {},
   "source": [
    "### 2. Label Encoder to convert all data to Numeric"
   ]
  },
  {
   "cell_type": "code",
   "execution_count": 14,
   "metadata": {},
   "outputs": [],
   "source": [
    "from sklearn.preprocessing import LabelEncoder\n",
    "encoder = LabelEncoder()\n",
    "\n",
    "data[data.select_dtypes(include=\"object\").columns] = data[data.select_dtypes(include=\"object\").columns].apply(encoder.fit_transform)"
   ]
  },
  {
   "cell_type": "markdown",
   "metadata": {},
   "source": [
    "---"
   ]
  },
  {
   "cell_type": "markdown",
   "metadata": {},
   "source": [
    "### 3. EDA"
   ]
  },
  {
   "cell_type": "code",
   "execution_count": 15,
   "metadata": {},
   "outputs": [
    {
     "data": {
      "text/plain": [
       "OverallQual    0.790982\n",
       "GrLivArea      0.708624\n",
       "GarageCars     0.640409\n",
       "GarageArea     0.623431\n",
       "TotalBsmtSF    0.613581\n",
       "                 ...   \n",
       "GarageType    -0.302105\n",
       "HeatingQC     -0.400178\n",
       "BsmtQual      -0.438881\n",
       "KitchenQual   -0.589189\n",
       "ExterQual     -0.636884\n",
       "Name: SalePrice, Length: 74, dtype: float64"
      ]
     },
     "execution_count": 15,
     "metadata": {},
     "output_type": "execute_result"
    }
   ],
   "source": [
    "correlation = data.corr().sort_values(by=\"SalePrice\",ascending=False)\n",
    "correlation[\"SalePrice\"].iloc[1:]"
   ]
  },
  {
   "cell_type": "code",
   "execution_count": 16,
   "metadata": {},
   "outputs": [
    {
     "name": "stdout",
     "output_type": "stream",
     "text": [
      "Top 10 Feature with +ve Correlation with SalePrice : \n",
      "  OverallQual     0.790982\n",
      "GrLivArea       0.708624\n",
      "GarageCars      0.640409\n",
      "GarageArea      0.623431\n",
      "TotalBsmtSF     0.613581\n",
      "1stFlrSF        0.605852\n",
      "FullBath        0.560664\n",
      "TotRmsAbvGrd    0.533723\n",
      "YearBuilt       0.522897\n",
      "YearRemodAdd    0.507101\n",
      "Name: SalePrice, dtype: float64\n",
      "================================================== \n",
      "\n",
      "Top 5 Feature with -ve Correlation with SalePrice : \n",
      "  GarageType    -0.302105\n",
      "HeatingQC     -0.400178\n",
      "BsmtQual      -0.438881\n",
      "KitchenQual   -0.589189\n",
      "Name: SalePrice, dtype: float64\n"
     ]
    }
   ],
   "source": [
    "print(\"Top 10 Feature with +ve Correlation with SalePrice : \\n \",(correlation[\"SalePrice\"].iloc[1:11]))\n",
    "print(\"=\"*50,\"\\n\")\n",
    "print(\"Top 5 Feature with -ve Correlation with SalePrice : \\n \",(correlation[\"SalePrice\"].iloc[-5:-1]))"
   ]
  },
  {
   "cell_type": "markdown",
   "metadata": {},
   "source": [
    "- Create sub plots for the 4 below"
   ]
  },
  {
   "cell_type": "code",
   "execution_count": 17,
   "metadata": {},
   "outputs": [
    {
     "data": {
      "image/png": "[encoded data removed]",
      "text/plain": [
       "<Figure size 864x576 with 4 Axes>"
      ]
     },
     "metadata": {
      "needs_background": "light"
     },
     "output_type": "display_data"
    }
   ],
   "source": [
    "plt.rcParams[\"figure.figsize\"]=12,8\n",
    "\n",
    "f,axes = plt.subplots(2,2)\n",
    "\n",
    "p1 = sns.barplot(x=data.OverallQual , y=data.SalePrice,ax=axes[0,0])\n",
    "p2 = sns.barplot(x=data.GarageCars , y=data.SalePrice ,ax=axes[0,1])\n",
    "p3 = sns.barplot(x=data.FullBath , y=data.SalePrice ,ax=axes[1,0])\n",
    "p4 = sns.barplot(x=data.TotRmsAbvGrd , y=data.SalePrice ,ax=axes[1,1])\n",
    "\n"
   ]
  },
  {
   "cell_type": "markdown",
   "metadata": {},
   "source": [
    "---"
   ]
  },
  {
   "cell_type": "code",
   "execution_count": 18,
   "metadata": {},
   "outputs": [
    {
     "data": {
      "image/png": "[encoded data removed]",
      "text/plain": [
       "<Figure size 864x576 with 4 Axes>"
      ]
     },
     "metadata": {
      "needs_background": "light"
     },
     "output_type": "display_data"
    }
   ],
   "source": [
    "plt.rcParams[\"figure.figsize\"]=12,8\n",
    "f,axes = plt.subplots(2,2)\n",
    "\n",
    "p1 = sns.barplot(x=data.GarageType , y=data.SalePrice,ax=axes[0,0])\n",
    "p2 = sns.barplot(x=data.GarageFinish , y=data.SalePrice ,ax=axes[0,1])\n",
    "p3 = sns.barplot(x=data.KitchenQual , y=data.SalePrice ,ax=axes[1,0])\n",
    "p4 = sns.barplot(x=data.BsmtQual , y=data.SalePrice ,ax=axes[1,1])"
   ]
  },
  {
   "cell_type": "markdown",
   "metadata": {},
   "source": [
    "---"
   ]
  },
  {
   "cell_type": "markdown",
   "metadata": {},
   "source": [
    "## 4.Sampling"
   ]
  },
  {
   "cell_type": "markdown",
   "metadata": {},
   "source": [
    "#### 4.1 Using All Features (X_train)"
   ]
  },
  {
   "cell_type": "code",
   "execution_count": 19,
   "metadata": {},
   "outputs": [
    {
     "name": "stdout",
     "output_type": "stream",
     "text": [
      "(1168, 74)\n",
      "(292, 74)\n",
      "(1168,)\n",
      "(292,)\n"
     ]
    }
   ],
   "source": [
    "X = data.drop('SalePrice',axis=1) \n",
    "y = data.SalePrice\n",
    "\n",
    "from sklearn.model_selection import train_test_split\n",
    "\n",
    "X_train,X_test,y_train,y_test = train_test_split(X,y, test_size=0.2)\n",
    "\n",
    "print(X_train.shape)\n",
    "print(X_test.shape)\n",
    "print(y_train.shape)\n",
    "print(y_test.shape)"
   ]
  },
  {
   "cell_type": "markdown",
   "metadata": {},
   "source": [
    "#### 4.2 Using IMP Features Only (Features with High Correlation with Y)  (X_trainI)"
   ]
  },
  {
   "cell_type": "code",
   "execution_count": 20,
   "metadata": {},
   "outputs": [
    {
     "name": "stdout",
     "output_type": "stream",
     "text": [
      "(1168, 14)\n",
      "(292, 14)\n",
      "(1168,)\n",
      "(292,)\n"
     ]
    }
   ],
   "source": [
    "X = data[[\"OverallQual\",\"GrLivArea\",\"GarageCars\",\"GarageArea\",\"TotalBsmtSF\",\"1stFlrSF\",\"FullBath\",\"TotRmsAbvGrd\",\"YearBuilt\",\"YearRemodAdd\",\"GarageType\",\"GarageFinish\",\"KitchenQual\",\"BsmtQual\"]]\n",
    "y = data.SalePrice\n",
    "\n",
    "from sklearn.model_selection import train_test_split\n",
    "\n",
    "X_trainI,X_testI,y_trainI,y_testI = train_test_split(X,y, test_size=0.2)\n",
    "\n",
    "print(X_trainI.shape)\n",
    "print(X_testI.shape)\n",
    "print(y_trainI.shape)\n",
    "print(y_testI.shape)"
   ]
  },
  {
   "cell_type": "markdown",
   "metadata": {},
   "source": [
    "### 4.3 Sampling Using RFE  (X_trainRfe)"
   ]
  },
  {
   "cell_type": "code",
   "execution_count": 21,
   "metadata": {},
   "outputs": [
    {
     "name": "stdout",
     "output_type": "stream",
     "text": [
      "Important Features as per RFE : \n",
      " Index(['Street', 'Utilities', 'LandSlope', 'Condition2', 'BldgType',\n",
      "       'OverallQual', 'RoofStyle', 'ExterQual', 'BsmtQual', 'BsmtCond',\n",
      "       'CentralAir', 'BsmtFullBath', 'FullBath', 'KitchenAbvGr', 'KitchenQual',\n",
      "       'TotRmsAbvGrd', 'Functional', 'Fireplaces', 'GarageCars', 'PavedDrive'],\n",
      "      dtype='object')\n"
     ]
    }
   ],
   "source": [
    "from sklearn.feature_selection import RFE\n",
    "from sklearn.linear_model import LinearRegression\n",
    "\n",
    "# Fit the Model\n",
    "LR_temp = LinearRegression()\n",
    "LR_temp.fit(X_train,y_train)\n",
    "\n",
    "# Call the rfe object, and pass base estimator and number of Important features we want.\n",
    "rfe = RFE(LR_temp , 20)\n",
    "rfe.fit(X_train,y_train) # Fit the rfe model\n",
    "\n",
    "# To select only imp Features from X_train\n",
    "\n",
    "a= list(rfe.support_)\n",
    "imp_cols = X_train.columns[a]\n",
    "print(\"Important Features as per RFE : \\n\",imp_cols)"
   ]
  },
  {
   "cell_type": "code",
   "execution_count": 22,
   "metadata": {},
   "outputs": [
    {
     "name": "stdout",
     "output_type": "stream",
     "text": [
      "(1168, 20)\n",
      "(292, 20)\n",
      "(1168,)\n",
      "(292,)\n"
     ]
    }
   ],
   "source": [
    "X = data[imp_cols]\n",
    "y = data.SalePrice\n",
    "\n",
    "from sklearn.model_selection import train_test_split\n",
    "\n",
    "X_trainRfe,X_testRfe,y_trainRfe,y_testRfe = train_test_split(X,y, test_size=0.2)\n",
    "\n",
    "print(X_trainRfe.shape)\n",
    "print(X_testRfe.shape)\n",
    "print(y_trainRfe.shape)\n",
    "print(y_testRfe.shape)"
   ]
  },
  {
   "cell_type": "markdown",
   "metadata": {},
   "source": [
    "---"
   ]
  },
  {
   "cell_type": "code",
   "execution_count": 23,
   "metadata": {},
   "outputs": [],
   "source": [
    "# Functio to Calculate Adjusted R-Square\n",
    "def Adj_Rsquare (model , X_train , y_train):\n",
    "    RSquare = model.score( X_train, y_train)\n",
    "    N = X_train.shape[0]\n",
    "    K = X_train.shape[1]\n",
    "    Adj_Rsquare_value = 1-((1-RSquare) * (N-1) / (N-K-1))\n",
    "    return Adj_Rsquare_value"
   ]
  },
  {
   "cell_type": "markdown",
   "metadata": {},
   "source": [
    "## 5.Modelling\n",
    "\n",
    "- Using All Feature\n",
    "- Using Imp Features"
   ]
  },
  {
   "cell_type": "markdown",
   "metadata": {},
   "source": [
    "### 5.1 Using All Features"
   ]
  },
  {
   "cell_type": "code",
   "execution_count": 24,
   "metadata": {},
   "outputs": [
    {
     "name": "stdout",
     "output_type": "stream",
     "text": [
      "2590823.6748674978\n",
      "\n",
      "\n",
      "[-8.91769694e+01 -1.17879817e+03 -2.06963081e+02  4.47673941e-01\n",
      "  4.24273391e+04 -9.72735441e+02  3.41918946e+03 -5.96401569e+04\n",
      "  2.09137946e+02  8.85255770e+03  4.00426701e+02 -6.15990647e+02\n",
      " -1.61650818e+04 -3.33664873e+03 -4.32126045e+02  1.26204840e+04\n",
      "  3.71960779e+03  2.30926378e+02  8.38814480e+01  2.63549971e+03\n",
      "  2.65369218e+03 -1.47194068e+03  7.31729064e+02  4.13826352e+03\n",
      "  2.91803621e+01 -1.01975085e+04 -4.54689998e+01  5.95993790e+02\n",
      " -6.92829493e+03  4.20261040e+03 -1.88801246e+03 -5.61326764e+02\n",
      "  1.29827411e+00  1.67700695e+03  1.09974990e+01 -3.27107914e+00\n",
      "  9.02469401e+00 -1.12202155e+03 -5.59036709e+02  5.04047290e+03\n",
      " -8.88124804e+02  1.12775708e+01  9.03128486e+00  1.68850210e+00\n",
      "  2.19973578e+01  8.74667669e+03 -6.18349340e+02  4.35999816e+03\n",
      " -6.21580536e+01 -2.24907813e+03 -1.37152377e+04 -8.18858259e+03\n",
      "  4.66806788e+03  4.06165698e+03  3.89021933e+03  5.53293845e+02\n",
      " -1.78277771e+02 -2.98072778e+03  1.34053139e+04  8.54216161e+00\n",
      " -1.92739357e+03 -8.51250972e+02  2.74626738e+03  3.03318341e+01\n",
      " -1.00294140e+01  1.99229120e+01  4.60517935e+01  6.60797841e+01\n",
      " -9.11693138e+01  4.35139972e-01 -1.46028344e+02 -1.42918380e+03\n",
      " -8.27181085e+02  3.29677492e+03]\n"
     ]
    }
   ],
   "source": [
    "from sklearn.linear_model import LinearRegression\n",
    "\n",
    "LR = LinearRegression()\n",
    "\n",
    "LR.fit(X_train,y_train)\n",
    "\n",
    "print(LR.intercept_)\n",
    "print(\"\\n\")\n",
    "print(LR.coef_)\n",
    "\n",
    "y_pred_train = LR.predict(X_train)\n",
    "y_pred_test  = LR.predict(X_test)\n",
    "\n",
    "# Calculate Error for Train and Test\n",
    "error_train = y_train - y_pred_train\n",
    "\n",
    "error_test  = y_test - y_pred_test"
   ]
  },
  {
   "cell_type": "code",
   "execution_count": 25,
   "metadata": {},
   "outputs": [
    {
     "name": "stdout",
     "output_type": "stream",
     "text": [
      "R-Square :  0.8515642208998899\n",
      "Adjusted R-Square :  0.8415145890120508\n",
      "RMSE Train :  30001.169562357598\n",
      "RMSE Test :  36985.38225202226\n"
     ]
    }
   ],
   "source": [
    "from sklearn.metrics import mean_squared_error\n",
    "\n",
    "print(\"R-Square : \",LR.score(X_train,y_train))\n",
    "Adj_R2 = Adj_Rsquare(LR,X_train , y_train)\n",
    "print(\"Adjusted R-Square : \",Adj_R2)\n",
    "print(\"RMSE Train : \",np.sqrt(mean_squared_error(y_train,y_pred_train)))\n",
    "print(\"RMSE Test : \",np.sqrt(mean_squared_error(y_test,y_pred_test)))\n",
    "\n"
   ]
  },
  {
   "cell_type": "markdown",
   "metadata": {},
   "source": [
    "---"
   ]
  },
  {
   "cell_type": "markdown",
   "metadata": {},
   "source": [
    "### 5.2 Using IMP Features Only (Features with High Correlation with Y)"
   ]
  },
  {
   "cell_type": "code",
   "execution_count": 26,
   "metadata": {},
   "outputs": [
    {
     "name": "stdout",
     "output_type": "stream",
     "text": [
      "-515436.3127583503\n",
      "\n",
      "\n",
      "[ 1.69273293e+04  4.07141357e+01  1.37603732e+04  1.71526313e+01\n",
      "  2.64920262e+01 -2.34325616e+00 -6.96054620e+03  2.15168276e+03\n",
      "  1.13588944e+02  1.55593553e+02 -1.50520118e+03 -3.77263505e+03\n",
      " -1.19646230e+04 -7.17371804e+03]\n"
     ]
    }
   ],
   "source": [
    "from sklearn.linear_model import LinearRegression\n",
    "\n",
    "LR1 = LinearRegression()\n",
    "\n",
    "LR1.fit(X_trainI,y_trainI)\n",
    "\n",
    "print(LR1.intercept_)\n",
    "print(\"\\n\")\n",
    "print(LR1.coef_)\n",
    "\n",
    "y_pred_trainI = LR1.predict(X_trainI)\n",
    "y_pred_testI  = LR1.predict(X_testI)\n",
    "\n",
    "# Calculate Error for Train and Test\n",
    "error_trainI = y_trainI - y_pred_trainI\n",
    "\n",
    "error_testI  = y_testI - y_pred_testI"
   ]
  },
  {
   "cell_type": "code",
   "execution_count": 27,
   "metadata": {},
   "outputs": [
    {
     "name": "stdout",
     "output_type": "stream",
     "text": [
      "R-Square :  0.7926576773530364\n",
      "Adjusted R-Square :  0.7901400775984332\n",
      "RMSE Train :  36572.37516868127\n",
      "RMSE Test :  33609.913653017036\n"
     ]
    }
   ],
   "source": [
    "from sklearn.metrics import mean_squared_error\n",
    "\n",
    "print(\"R-Square : \",LR1.score(X_trainI,y_trainI))\n",
    "Adj_R2 = Adj_Rsquare(LR1,X_trainI , y_trainI)\n",
    "print(\"Adjusted R-Square : \",Adj_R2)\n",
    "print(\"RMSE Train : \",np.sqrt(mean_squared_error(y_trainI,y_pred_trainI)))\n",
    "print(\"RMSE Test : \",np.sqrt(mean_squared_error(y_testI,y_pred_testI)))\n",
    "\n"
   ]
  },
  {
   "cell_type": "markdown",
   "metadata": {},
   "source": [
    "---"
   ]
  },
  {
   "cell_type": "markdown",
   "metadata": {},
   "source": [
    "### 5.3 Using IMP features from RFE"
   ]
  },
  {
   "cell_type": "code",
   "execution_count": 28,
   "metadata": {},
   "outputs": [
    {
     "data": {
      "text/plain": [
       "(      Street  Utilities  LandSlope  Condition2  BldgType  OverallQual  \\\n",
       " 1138       1          0          1           2         0            6   \n",
       " 1232       1          0          0           2         2            4   \n",
       " 1369       1          0          0           2         0            8   \n",
       " 130        1          0          0           2         0            7   \n",
       " 217        1          0          0           2         0            4   \n",
       " ...      ...        ...        ...         ...       ...          ...   \n",
       " 460        1          0          0           2         0            8   \n",
       " 740        1          0          0           2         0            5   \n",
       " 62         1          0          0           2         4            8   \n",
       " 818        1          0          0           2         0            6   \n",
       " 259        1          0          0           2         0            5   \n",
       " \n",
       "       RoofStyle  ExterQual  BsmtQual  BsmtCond  CentralAir  BsmtFullBath  \\\n",
       " 1138          1          3         4         4           1             1   \n",
       " 1232          1          3         0         0           1             0   \n",
       " 1369          3          2         3         4           1             1   \n",
       " 130           1          3         4         4           1             0   \n",
       " 217           1          3         4         4           0             0   \n",
       " ...         ...        ...       ...       ...         ...           ...   \n",
       " 460           1          2         3         4           1             1   \n",
       " 740           1          3         2         1           1             0   \n",
       " 62            1          2         3         2           1             0   \n",
       " 818           1          3         4         4           1             1   \n",
       " 259           1          3         0         0           1             0   \n",
       " \n",
       "       FullBath  KitchenAbvGr  KitchenQual  TotRmsAbvGrd  Functional  \\\n",
       " 1138         2             1            2             5           6   \n",
       " 1232         2             2            3             6           6   \n",
       " 1369         2             1            2             8           6   \n",
       " 130          2             1            2             8           6   \n",
       " 217          1             1            3             8           6   \n",
       " ...        ...           ...          ...           ...         ...   \n",
       " 460          2             1            3             8           6   \n",
       " 740          2             1            3             7           6   \n",
       " 62           2             1            2             6           6   \n",
       " 818          1             1            3             6           6   \n",
       " 259          1             1            3             4           6   \n",
       " \n",
       "       Fireplaces  GarageCars  PavedDrive  \n",
       " 1138           2           2           2  \n",
       " 1232           0           2           2  \n",
       " 1369           1           2           2  \n",
       " 130            2           2           2  \n",
       " 217            0           1           2  \n",
       " ...          ...         ...         ...  \n",
       " 460            0           2           2  \n",
       " 740            0           2           2  \n",
       " 62             1           2           2  \n",
       " 818            0           2           2  \n",
       " 259            0           1           2  \n",
       " \n",
       " [1168 rows x 20 columns],\n",
       "       Street  Utilities  LandSlope  Condition2  BldgType  OverallQual  \\\n",
       " 886        1          0          0           2         2            5   \n",
       " 1429       1          0          0           2         0            6   \n",
       " 393        1          0          0           2         0            4   \n",
       " 807        1          0          0           2         0            5   \n",
       " 1226       1          0          0           2         0            6   \n",
       " ...      ...        ...        ...         ...       ...          ...   \n",
       " 1336       1          0          0           2         2            5   \n",
       " 863        1          0          0           2         0            5   \n",
       " 1227       1          0          0           2         0            5   \n",
       " 987        1          0          0           2         0            9   \n",
       " 823        1          0          0           2         0            6   \n",
       " \n",
       "       RoofStyle  ExterQual  BsmtQual  BsmtCond  CentralAir  BsmtFullBath  \\\n",
       " 886           1          3         4         4           1             0   \n",
       " 1429          1          2         3         4           1             0   \n",
       " 393           1          3         4         4           1             0   \n",
       " 807           1          3         4         4           1             2   \n",
       " 1226          1          2         3         4           1             0   \n",
       " ...         ...        ...       ...       ...         ...           ...   \n",
       " 1336          1          3         4         4           1             0   \n",
       " 863           3          3         4         4           1             1   \n",
       " 1227          1          3         4         4           1             1   \n",
       " 987           3          0         1         4           1             1   \n",
       " 823           1          3         4         4           1             0   \n",
       " \n",
       "       FullBath  KitchenAbvGr  KitchenQual  TotRmsAbvGrd  Functional  \\\n",
       " 886          2             2            3             8           6   \n",
       " 1429         2             1            2             7           6   \n",
       " 393          1             1            3             4           6   \n",
       " 807          1             1            2             6           6   \n",
       " 1226         2             1            2             9           6   \n",
       " ...        ...           ...          ...           ...         ...   \n",
       " 1336         2             2            3             8           6   \n",
       " 863          1             1            3             6           6   \n",
       " 1227         1             1            2             5           6   \n",
       " 987          2             1            0             8           6   \n",
       " 823          2             1            3             7           6   \n",
       " \n",
       "       Fireplaces  GarageCars  PavedDrive  \n",
       " 886            0           2           2  \n",
       " 1429           1           2           2  \n",
       " 393            2           0           2  \n",
       " 807            1           2           2  \n",
       " 1226           1           3           2  \n",
       " ...          ...         ...         ...  \n",
       " 1336           0           2           2  \n",
       " 863            0           1           2  \n",
       " 1227           0           2           2  \n",
       " 987            1           3           2  \n",
       " 823            1           1           2  \n",
       " \n",
       " [292 rows x 20 columns],\n",
       " 1138    196000\n",
       " 1232    101800\n",
       " 1369    232000\n",
       " 130     226000\n",
       " 217     107000\n",
       "          ...  \n",
       " 460     263435\n",
       " 740     132000\n",
       " 62      202500\n",
       " 818     155000\n",
       " 259      97000\n",
       " Name: SalePrice, Length: 1168, dtype: int64,\n",
       " 886     145000\n",
       " 1429    182900\n",
       " 393     100000\n",
       " 807     223500\n",
       " 1226    214000\n",
       "          ...  \n",
       " 1336    135000\n",
       " 863     132500\n",
       " 1227    147000\n",
       " 987     395192\n",
       " 823     139500\n",
       " Name: SalePrice, Length: 292, dtype: int64)"
      ]
     },
     "execution_count": 28,
     "metadata": {},
     "output_type": "execute_result"
    }
   ],
   "source": [
    "X_trainRfe,X_testRfe,y_trainRfe,y_testRfe"
   ]
  },
  {
   "cell_type": "code",
   "execution_count": 29,
   "metadata": {},
   "outputs": [
    {
     "name": "stdout",
     "output_type": "stream",
     "text": [
      "-51514.40812325917\n",
      "\n",
      "\n",
      "[ 5.12002755e+04 -9.09494702e-12  2.03448159e+04 -2.91018633e+03\n",
      " -5.30222543e+03  1.78446509e+04  3.45410020e+03 -1.47266999e+04\n",
      " -9.79024705e+03  4.70879017e+03  1.38875264e+04  1.88537835e+04\n",
      "  1.16079760e+04 -1.88833366e+04 -1.01254146e+04  9.45829172e+03\n",
      "  4.41225859e+03  1.02512371e+04  1.40963609e+04  6.13330720e+03]\n"
     ]
    }
   ],
   "source": [
    "LR3 = LinearRegression()\n",
    "\n",
    "LR3.fit(X_trainRfe,y_trainRfe)\n",
    "\n",
    "print(LR3.intercept_)\n",
    "print(\"\\n\")\n",
    "print(LR3.coef_)\n",
    "\n",
    "y_pred_trainRfe = LR3.predict(X_trainRfe)\n",
    "y_pred_testRfe  = LR3.predict(X_testRfe)\n",
    "\n",
    "# Calculate Error for Train and Test\n",
    "error_trainRfe = y_trainRfe - y_pred_trainRfe\n",
    "\n",
    "error_testRfe  = y_testRfe - y_pred_testRfe"
   ]
  },
  {
   "cell_type": "code",
   "execution_count": 30,
   "metadata": {},
   "outputs": [
    {
     "name": "stdout",
     "output_type": "stream",
     "text": [
      "R-Square :  0.7986533776722902\n",
      "Adjusted R-Square :  0.7951425385732891\n",
      "RMSE Train :  35658.85912968383\n",
      "RMSE Test :  35815.00096567022\n"
     ]
    }
   ],
   "source": [
    "from sklearn.metrics import mean_squared_error\n",
    "\n",
    "print(\"R-Square : \",LR3.score(X_trainRfe,y_trainRfe))\n",
    "Adj_R2 = Adj_Rsquare(LR3,X_trainRfe,y_trainRfe)\n",
    "print(\"Adjusted R-Square : \",Adj_R2)\n",
    "print(\"RMSE Train : \",np.sqrt(mean_squared_error(y_trainRfe,y_pred_trainRfe)))\n",
    "print(\"RMSE Test : \",np.sqrt(mean_squared_error(y_testRfe,y_pred_testRfe)))\n",
    "\n"
   ]
  },
  {
   "cell_type": "markdown",
   "metadata": {},
   "source": [
    "---"
   ]
  },
  {
   "cell_type": "markdown",
   "metadata": {},
   "source": [
    "- **We got the Best Results using LR i.e Model built using all features**\n",
    "- **Therefore we will check all our assumptions on model LR**"
   ]
  },
  {
   "cell_type": "markdown",
   "metadata": {},
   "source": [
    "## 6. Check All assumptions for the Best model"
   ]
  },
  {
   "cell_type": "markdown",
   "metadata": {},
   "source": [
    "- **Assumption 1 Mean of error is 0**"
   ]
  },
  {
   "cell_type": "code",
   "execution_count": 31,
   "metadata": {},
   "outputs": [
    {
     "data": {
      "text/plain": [
       "-3.512393785257862e-10"
      ]
     },
     "execution_count": 31,
     "metadata": {},
     "output_type": "execute_result"
    }
   ],
   "source": [
    "np.mean(error_train)"
   ]
  },
  {
   "cell_type": "markdown",
   "metadata": {},
   "source": [
    "- **Assumption 2 Distribution of error**"
   ]
  },
  {
   "cell_type": "code",
   "execution_count": 32,
   "metadata": {},
   "outputs": [
    {
     "data": {
      "image/png": "[encoded data removed]",
      "text/plain": [
       "<Figure size 720x432 with 1 Axes>"
      ]
     },
     "metadata": {
      "needs_background": "light"
     },
     "output_type": "display_data"
    }
   ],
   "source": [
    "plt.figure(figsize=(10,6))\n",
    "sns.distplot(error_train)\n",
    "plt.grid()\n",
    "\n",
    "# Data is more right skewed"
   ]
  },
  {
   "cell_type": "markdown",
   "metadata": {},
   "source": [
    "- **Assumption 2 Distribution of error**"
   ]
  },
  {
   "cell_type": "code",
   "execution_count": 33,
   "metadata": {},
   "outputs": [
    {
     "data": {
      "text/plain": [
       "[<matplotlib.lines.Line2D at 0x2358ec9f908>]"
      ]
     },
     "execution_count": 33,
     "metadata": {},
     "output_type": "execute_result"
    },
    {
     "data": {
      "image/png": "[encoded data removed]",
      "text/plain": [
       "<Figure size 720x576 with 1 Axes>"
      ]
     },
     "metadata": {
      "needs_background": "light"
     },
     "output_type": "display_data"
    }
   ],
   "source": [
    "plt.figure(figsize=(10,8))\n",
    "plt.plot(error_train,\"*\")"
   ]
  },
  {
   "cell_type": "markdown",
   "metadata": {},
   "source": [
    "- **Assumption 4 variance around the line**"
   ]
  },
  {
   "cell_type": "code",
   "execution_count": 34,
   "metadata": {},
   "outputs": [
    {
     "data": {
      "text/plain": [
       "<seaborn.axisgrid.JointGrid at 0x2358e9e7dc8>"
      ]
     },
     "execution_count": 34,
     "metadata": {},
     "output_type": "execute_result"
    },
    {
     "data": {
      "text/plain": [
       "<Figure size 720x576 with 0 Axes>"
      ]
     },
     "metadata": {},
     "output_type": "display_data"
    },
    {
     "data": {
      "image/png": "[encoded data removed]",
      "text/plain": [
       "<Figure size 432x432 with 3 Axes>"
      ]
     },
     "metadata": {
      "needs_background": "light"
     },
     "output_type": "display_data"
    }
   ],
   "source": [
    "plt.figure(figsize=(10,8))\n",
    "sns.jointplot( x=y_train ,y=y_pred_train,kind=\"reg\")"
   ]
  },
  {
   "cell_type": "code",
   "execution_count": null,
   "metadata": {},
   "outputs": [],
   "source": []
  },
  {
   "cell_type": "markdown",
   "metadata": {},
   "source": [
    "## 7. Use the best model on the Test data."
   ]
  },
  {
   "cell_type": "code",
   "execution_count": 35,
   "metadata": {},
   "outputs": [
    {
     "data": {
      "text/html": [
       "<div>\n",
       "<style scoped>\n",
       "    .dataframe tbody tr th:only-of-type {\n",
       "        vertical-align: middle;\n",
       "    }\n",
       "\n",
       "    .dataframe tbody tr th {\n",
       "        vertical-align: top;\n",
       "    }\n",
       "\n",
       "    .dataframe thead th {\n",
       "        text-align: right;\n",
       "    }\n",
       "</style>\n",
       "<table border=\"1\" class=\"dataframe\">\n",
       "  <thead>\n",
       "    <tr style=\"text-align: right;\">\n",
       "      <th></th>\n",
       "      <th>Id</th>\n",
       "      <th>MSSubClass</th>\n",
       "      <th>MSZoning</th>\n",
       "      <th>LotFrontage</th>\n",
       "      <th>LotArea</th>\n",
       "      <th>Street</th>\n",
       "      <th>Alley</th>\n",
       "      <th>LotShape</th>\n",
       "      <th>LandContour</th>\n",
       "      <th>Utilities</th>\n",
       "      <th>...</th>\n",
       "      <th>ScreenPorch</th>\n",
       "      <th>PoolArea</th>\n",
       "      <th>PoolQC</th>\n",
       "      <th>Fence</th>\n",
       "      <th>MiscFeature</th>\n",
       "      <th>MiscVal</th>\n",
       "      <th>MoSold</th>\n",
       "      <th>YrSold</th>\n",
       "      <th>SaleType</th>\n",
       "      <th>SaleCondition</th>\n",
       "    </tr>\n",
       "  </thead>\n",
       "  <tbody>\n",
       "    <tr>\n",
       "      <th>0</th>\n",
       "      <td>1461</td>\n",
       "      <td>20</td>\n",
       "      <td>RH</td>\n",
       "      <td>80.0</td>\n",
       "      <td>11622</td>\n",
       "      <td>Pave</td>\n",
       "      <td>NaN</td>\n",
       "      <td>Reg</td>\n",
       "      <td>Lvl</td>\n",
       "      <td>AllPub</td>\n",
       "      <td>...</td>\n",
       "      <td>120</td>\n",
       "      <td>0</td>\n",
       "      <td>NaN</td>\n",
       "      <td>MnPrv</td>\n",
       "      <td>NaN</td>\n",
       "      <td>0</td>\n",
       "      <td>6</td>\n",
       "      <td>2010</td>\n",
       "      <td>WD</td>\n",
       "      <td>Normal</td>\n",
       "    </tr>\n",
       "    <tr>\n",
       "      <th>1</th>\n",
       "      <td>1462</td>\n",
       "      <td>20</td>\n",
       "      <td>RL</td>\n",
       "      <td>81.0</td>\n",
       "      <td>14267</td>\n",
       "      <td>Pave</td>\n",
       "      <td>NaN</td>\n",
       "      <td>IR1</td>\n",
       "      <td>Lvl</td>\n",
       "      <td>AllPub</td>\n",
       "      <td>...</td>\n",
       "      <td>0</td>\n",
       "      <td>0</td>\n",
       "      <td>NaN</td>\n",
       "      <td>NaN</td>\n",
       "      <td>Gar2</td>\n",
       "      <td>12500</td>\n",
       "      <td>6</td>\n",
       "      <td>2010</td>\n",
       "      <td>WD</td>\n",
       "      <td>Normal</td>\n",
       "    </tr>\n",
       "    <tr>\n",
       "      <th>2</th>\n",
       "      <td>1463</td>\n",
       "      <td>60</td>\n",
       "      <td>RL</td>\n",
       "      <td>74.0</td>\n",
       "      <td>13830</td>\n",
       "      <td>Pave</td>\n",
       "      <td>NaN</td>\n",
       "      <td>IR1</td>\n",
       "      <td>Lvl</td>\n",
       "      <td>AllPub</td>\n",
       "      <td>...</td>\n",
       "      <td>0</td>\n",
       "      <td>0</td>\n",
       "      <td>NaN</td>\n",
       "      <td>MnPrv</td>\n",
       "      <td>NaN</td>\n",
       "      <td>0</td>\n",
       "      <td>3</td>\n",
       "      <td>2010</td>\n",
       "      <td>WD</td>\n",
       "      <td>Normal</td>\n",
       "    </tr>\n",
       "    <tr>\n",
       "      <th>3</th>\n",
       "      <td>1464</td>\n",
       "      <td>60</td>\n",
       "      <td>RL</td>\n",
       "      <td>78.0</td>\n",
       "      <td>9978</td>\n",
       "      <td>Pave</td>\n",
       "      <td>NaN</td>\n",
       "      <td>IR1</td>\n",
       "      <td>Lvl</td>\n",
       "      <td>AllPub</td>\n",
       "      <td>...</td>\n",
       "      <td>0</td>\n",
       "      <td>0</td>\n",
       "      <td>NaN</td>\n",
       "      <td>NaN</td>\n",
       "      <td>NaN</td>\n",
       "      <td>0</td>\n",
       "      <td>6</td>\n",
       "      <td>2010</td>\n",
       "      <td>WD</td>\n",
       "      <td>Normal</td>\n",
       "    </tr>\n",
       "    <tr>\n",
       "      <th>4</th>\n",
       "      <td>1465</td>\n",
       "      <td>120</td>\n",
       "      <td>RL</td>\n",
       "      <td>43.0</td>\n",
       "      <td>5005</td>\n",
       "      <td>Pave</td>\n",
       "      <td>NaN</td>\n",
       "      <td>IR1</td>\n",
       "      <td>HLS</td>\n",
       "      <td>AllPub</td>\n",
       "      <td>...</td>\n",
       "      <td>144</td>\n",
       "      <td>0</td>\n",
       "      <td>NaN</td>\n",
       "      <td>NaN</td>\n",
       "      <td>NaN</td>\n",
       "      <td>0</td>\n",
       "      <td>1</td>\n",
       "      <td>2010</td>\n",
       "      <td>WD</td>\n",
       "      <td>Normal</td>\n",
       "    </tr>\n",
       "  </tbody>\n",
       "</table>\n",
       "<p>5 rows × 80 columns</p>\n",
       "</div>"
      ],
      "text/plain": [
       "     Id  MSSubClass MSZoning  LotFrontage  LotArea Street Alley LotShape  \\\n",
       "0  1461          20       RH         80.0    11622   Pave   NaN      Reg   \n",
       "1  1462          20       RL         81.0    14267   Pave   NaN      IR1   \n",
       "2  1463          60       RL         74.0    13830   Pave   NaN      IR1   \n",
       "3  1464          60       RL         78.0     9978   Pave   NaN      IR1   \n",
       "4  1465         120       RL         43.0     5005   Pave   NaN      IR1   \n",
       "\n",
       "  LandContour Utilities  ... ScreenPorch PoolArea PoolQC  Fence MiscFeature  \\\n",
       "0         Lvl    AllPub  ...         120        0    NaN  MnPrv         NaN   \n",
       "1         Lvl    AllPub  ...           0        0    NaN    NaN        Gar2   \n",
       "2         Lvl    AllPub  ...           0        0    NaN  MnPrv         NaN   \n",
       "3         Lvl    AllPub  ...           0        0    NaN    NaN         NaN   \n",
       "4         HLS    AllPub  ...         144        0    NaN    NaN         NaN   \n",
       "\n",
       "  MiscVal MoSold  YrSold  SaleType  SaleCondition  \n",
       "0       0      6    2010        WD         Normal  \n",
       "1   12500      6    2010        WD         Normal  \n",
       "2       0      3    2010        WD         Normal  \n",
       "3       0      6    2010        WD         Normal  \n",
       "4       0      1    2010        WD         Normal  \n",
       "\n",
       "[5 rows x 80 columns]"
      ]
     },
     "execution_count": 35,
     "metadata": {},
     "output_type": "execute_result"
    }
   ],
   "source": [
    "Test = pd.read_csv(\"test.csv\")\n",
    "Test.head()"
   ]
  },
  {
   "cell_type": "code",
   "execution_count": 36,
   "metadata": {},
   "outputs": [],
   "source": [
    "Test=Test.drop([\"Id\"],axis=1)"
   ]
  },
  {
   "cell_type": "code",
   "execution_count": 37,
   "metadata": {},
   "outputs": [
    {
     "data": {
      "text/html": [
       "<div>\n",
       "<style scoped>\n",
       "    .dataframe tbody tr th:only-of-type {\n",
       "        vertical-align: middle;\n",
       "    }\n",
       "\n",
       "    .dataframe tbody tr th {\n",
       "        vertical-align: top;\n",
       "    }\n",
       "\n",
       "    .dataframe thead th {\n",
       "        text-align: right;\n",
       "    }\n",
       "</style>\n",
       "<table border=\"1\" class=\"dataframe\">\n",
       "  <thead>\n",
       "    <tr style=\"text-align: right;\">\n",
       "      <th></th>\n",
       "      <th>Missing_records</th>\n",
       "      <th>Missing %</th>\n",
       "    </tr>\n",
       "  </thead>\n",
       "  <tbody>\n",
       "    <tr>\n",
       "      <th>PoolQC</th>\n",
       "      <td>1456</td>\n",
       "      <td>0.997944</td>\n",
       "    </tr>\n",
       "    <tr>\n",
       "      <th>MiscFeature</th>\n",
       "      <td>1408</td>\n",
       "      <td>0.965045</td>\n",
       "    </tr>\n",
       "    <tr>\n",
       "      <th>Alley</th>\n",
       "      <td>1352</td>\n",
       "      <td>0.926662</td>\n",
       "    </tr>\n",
       "    <tr>\n",
       "      <th>Fence</th>\n",
       "      <td>1169</td>\n",
       "      <td>0.801234</td>\n",
       "    </tr>\n",
       "    <tr>\n",
       "      <th>FireplaceQu</th>\n",
       "      <td>730</td>\n",
       "      <td>0.500343</td>\n",
       "    </tr>\n",
       "    <tr>\n",
       "      <th>LotFrontage</th>\n",
       "      <td>227</td>\n",
       "      <td>0.155586</td>\n",
       "    </tr>\n",
       "    <tr>\n",
       "      <th>GarageCond</th>\n",
       "      <td>78</td>\n",
       "      <td>0.053461</td>\n",
       "    </tr>\n",
       "    <tr>\n",
       "      <th>GarageFinish</th>\n",
       "      <td>78</td>\n",
       "      <td>0.053461</td>\n",
       "    </tr>\n",
       "    <tr>\n",
       "      <th>GarageYrBlt</th>\n",
       "      <td>78</td>\n",
       "      <td>0.053461</td>\n",
       "    </tr>\n",
       "    <tr>\n",
       "      <th>GarageQual</th>\n",
       "      <td>78</td>\n",
       "      <td>0.053461</td>\n",
       "    </tr>\n",
       "    <tr>\n",
       "      <th>GarageType</th>\n",
       "      <td>76</td>\n",
       "      <td>0.052090</td>\n",
       "    </tr>\n",
       "    <tr>\n",
       "      <th>BsmtCond</th>\n",
       "      <td>45</td>\n",
       "      <td>0.030843</td>\n",
       "    </tr>\n",
       "    <tr>\n",
       "      <th>BsmtExposure</th>\n",
       "      <td>44</td>\n",
       "      <td>0.030158</td>\n",
       "    </tr>\n",
       "    <tr>\n",
       "      <th>BsmtQual</th>\n",
       "      <td>44</td>\n",
       "      <td>0.030158</td>\n",
       "    </tr>\n",
       "    <tr>\n",
       "      <th>BsmtFinType1</th>\n",
       "      <td>42</td>\n",
       "      <td>0.028787</td>\n",
       "    </tr>\n",
       "    <tr>\n",
       "      <th>BsmtFinType2</th>\n",
       "      <td>42</td>\n",
       "      <td>0.028787</td>\n",
       "    </tr>\n",
       "    <tr>\n",
       "      <th>MasVnrType</th>\n",
       "      <td>16</td>\n",
       "      <td>0.010966</td>\n",
       "    </tr>\n",
       "    <tr>\n",
       "      <th>MasVnrArea</th>\n",
       "      <td>15</td>\n",
       "      <td>0.010281</td>\n",
       "    </tr>\n",
       "    <tr>\n",
       "      <th>MSZoning</th>\n",
       "      <td>4</td>\n",
       "      <td>0.002742</td>\n",
       "    </tr>\n",
       "    <tr>\n",
       "      <th>BsmtHalfBath</th>\n",
       "      <td>2</td>\n",
       "      <td>0.001371</td>\n",
       "    </tr>\n",
       "    <tr>\n",
       "      <th>Utilities</th>\n",
       "      <td>2</td>\n",
       "      <td>0.001371</td>\n",
       "    </tr>\n",
       "    <tr>\n",
       "      <th>Functional</th>\n",
       "      <td>2</td>\n",
       "      <td>0.001371</td>\n",
       "    </tr>\n",
       "    <tr>\n",
       "      <th>BsmtFullBath</th>\n",
       "      <td>2</td>\n",
       "      <td>0.001371</td>\n",
       "    </tr>\n",
       "    <tr>\n",
       "      <th>BsmtFinSF2</th>\n",
       "      <td>1</td>\n",
       "      <td>0.000685</td>\n",
       "    </tr>\n",
       "    <tr>\n",
       "      <th>BsmtFinSF1</th>\n",
       "      <td>1</td>\n",
       "      <td>0.000685</td>\n",
       "    </tr>\n",
       "  </tbody>\n",
       "</table>\n",
       "</div>"
      ],
      "text/plain": [
       "              Missing_records  Missing %\n",
       "PoolQC                   1456   0.997944\n",
       "MiscFeature              1408   0.965045\n",
       "Alley                    1352   0.926662\n",
       "Fence                    1169   0.801234\n",
       "FireplaceQu               730   0.500343\n",
       "LotFrontage               227   0.155586\n",
       "GarageCond                 78   0.053461\n",
       "GarageFinish               78   0.053461\n",
       "GarageYrBlt                78   0.053461\n",
       "GarageQual                 78   0.053461\n",
       "GarageType                 76   0.052090\n",
       "BsmtCond                   45   0.030843\n",
       "BsmtExposure               44   0.030158\n",
       "BsmtQual                   44   0.030158\n",
       "BsmtFinType1               42   0.028787\n",
       "BsmtFinType2               42   0.028787\n",
       "MasVnrType                 16   0.010966\n",
       "MasVnrArea                 15   0.010281\n",
       "MSZoning                    4   0.002742\n",
       "BsmtHalfBath                2   0.001371\n",
       "Utilities                   2   0.001371\n",
       "Functional                  2   0.001371\n",
       "BsmtFullBath                2   0.001371\n",
       "BsmtFinSF2                  1   0.000685\n",
       "BsmtFinSF1                  1   0.000685"
      ]
     },
     "execution_count": 37,
     "metadata": {},
     "output_type": "execute_result"
    }
   ],
   "source": [
    "Nulls = pd.DataFrame()\n",
    "Nulls[\"Missing_records\"] = (Test.isna().sum().sort_values(ascending=False))\n",
    "Nulls[\"Missing %\"] = ((Test.isna().sum() / Test.shape[0])).sort_values(ascending=False)\n",
    "Nulls = Nulls[Nulls[\"Missing_records\"]>0]\n",
    "Nulls.head(25)"
   ]
  },
  {
   "cell_type": "code",
   "execution_count": 38,
   "metadata": {},
   "outputs": [],
   "source": [
    "# Delete All columns from Test where Missing Test is more than around 20% i.e 260 Missing records\n",
    "for i in range(0,Nulls.shape[0]):\n",
    "    if Nulls[\"Missing_records\"][i] > 690 :\n",
    "        Test.drop([Nulls.index[i]],inplace=True,axis=1)\n",
    "                \n",
    "        \n",
    "# Make 2 different Lists For numeric and categorical Test, which will have only Column names and no Test.\n",
    "# Few columns are deleted in above step, so those wont be included\n",
    "numeric_cols = Test.select_dtypes(include=[\"int64\",\"float\"]).columns\n",
    "cat_cols = Test.select_dtypes(include=\"object\").columns\n",
    "\n",
    "num_nulls = [] # Numeric columns which have nulls\n",
    "cat_nulls = [] # Categorical columns which have nulls\n",
    "for i in Nulls.index:\n",
    "    if i in numeric_cols:\n",
    "        num_nulls.append(i)\n",
    "    elif i in cat_cols:\n",
    "        cat_nulls.append(i)\n",
    "\n",
    "# Impute the Test for Numeric Columns\n",
    "\n",
    "for i in num_nulls:\n",
    "    #Test.fillna(Test[i].median , inplace=True)\n",
    "    Test.fillna(Test.median(),inplace=True)\n",
    "    \n",
    "\n",
    "# Impute the Test for Categorical columns\n",
    "for i in cat_nulls:\n",
    "    Test.fillna(Test[i].mode()[0] , inplace=True)     "
   ]
  },
  {
   "cell_type": "code",
   "execution_count": 39,
   "metadata": {},
   "outputs": [],
   "source": [
    "from sklearn.preprocessing import LabelEncoder\n",
    "encoder = LabelEncoder()\n",
    "\n",
    "Test[Test.select_dtypes(include=\"object\").columns] = Test[Test.select_dtypes(include=\"object\").columns].apply(encoder.fit_transform)"
   ]
  },
  {
   "cell_type": "code",
   "execution_count": 40,
   "metadata": {},
   "outputs": [
    {
     "data": {
      "text/plain": [
       "array([117596.55882184, 170693.4360041 , 178681.83491261, ...,\n",
       "       159062.54323259, 126194.00922846, 260184.04312955])"
      ]
     },
     "execution_count": 40,
     "metadata": {},
     "output_type": "execute_result"
    }
   ],
   "source": [
    "y_predTest = LR.predict(Test)\n",
    "y_predTest"
   ]
  },
  {
   "cell_type": "code",
   "execution_count": 80,
   "metadata": {},
   "outputs": [
    {
     "data": {
      "text/plain": [
       "0       117596.559\n",
       "1       170693.436\n",
       "2       178681.835\n",
       "3       198287.194\n",
       "4       205488.308\n",
       "           ...    \n",
       "1454     73570.083\n",
       "1455     68829.349\n",
       "1456    159062.543\n",
       "1457    126194.009\n",
       "1458    260184.043\n",
       "Name: Predicted, Length: 1459, dtype: float64"
      ]
     },
     "execution_count": 80,
     "metadata": {},
     "output_type": "execute_result"
    }
   ],
   "source": [
    "Test[\"Predicted\"] = np.round(y_predTest,decimals=3)\n",
    "Test[\"Predicted\"]"
   ]
  },
  {
   "cell_type": "code",
   "execution_count": 64,
   "metadata": {},
   "outputs": [
    {
     "data": {
      "text/plain": [
       "455     -78304.503\n",
       "1433      -861.894\n",
       "387      12042.311\n",
       "1431     13831.236\n",
       "1118     18779.699\n",
       "           ...    \n",
       "803     444007.612\n",
       "1170    445485.908\n",
       "834     450067.008\n",
       "1222    465315.913\n",
       "1089    612368.132\n",
       "Name: Predicted, Length: 1459, dtype: float64"
      ]
     },
     "execution_count": 64,
     "metadata": {},
     "output_type": "execute_result"
    }
   ],
   "source": [
    "Test[\"Predicted\"].sort_values(ascending=True)\n",
    "\n",
    "# There 2 Outliers , i,e the 2 negative values"
   ]
  },
  {
   "cell_type": "code",
   "execution_count": 81,
   "metadata": {},
   "outputs": [
    {
     "data": {
      "text/plain": [
       "count      1459.000000\n",
       "mean     189116.338643\n",
       "std       75115.967333\n",
       "min      -78304.503000\n",
       "25%      137263.016000\n",
       "50%      174566.296000\n",
       "75%      229160.099500\n",
       "max      612368.132000\n",
       "Name: Predicted, dtype: float64"
      ]
     },
     "execution_count": 81,
     "metadata": {},
     "output_type": "execute_result"
    }
   ],
   "source": [
    "Test[\"Predicted\"].describe()"
   ]
  },
  {
   "cell_type": "code",
   "execution_count": 76,
   "metadata": {},
   "outputs": [
    {
     "data": {
      "text/plain": [
       "count      1460.000000\n",
       "mean     180921.195890\n",
       "std       79442.502883\n",
       "min       34900.000000\n",
       "25%      129975.000000\n",
       "50%      163000.000000\n",
       "75%      214000.000000\n",
       "85%      250000.000000\n",
       "90%      278000.000000\n",
       "95%      326100.000000\n",
       "99%      442567.010000\n",
       "max      755000.000000\n",
       "Name: SalePrice, dtype: float64"
      ]
     },
     "execution_count": 76,
     "metadata": {},
     "output_type": "execute_result"
    }
   ],
   "source": [
    "data.SalePrice.describe(percentiles=[.25, .5, .75 , .85 , .90 , .95 , .99])\n",
    "\n",
    "# Only 5% have price > 326100.000000\n",
    "# Only 1% have price > 442567.010000\n",
    "\n",
    "# Maybe therefore the model is having a tough time to predict the HIgher end prices like  755000.000000"
   ]
  },
  {
   "cell_type": "code",
   "execution_count": 60,
   "metadata": {
    "collapsed": true
   },
   "outputs": [
    {
     "data": {
      "text/html": [
       "<div>\n",
       "<style scoped>\n",
       "    .dataframe tbody tr th:only-of-type {\n",
       "        vertical-align: middle;\n",
       "    }\n",
       "\n",
       "    .dataframe tbody tr th {\n",
       "        vertical-align: top;\n",
       "    }\n",
       "\n",
       "    .dataframe thead th {\n",
       "        text-align: right;\n",
       "    }\n",
       "</style>\n",
       "<table border=\"1\" class=\"dataframe\">\n",
       "  <thead>\n",
       "    <tr style=\"text-align: right;\">\n",
       "      <th></th>\n",
       "      <th>SalePrice</th>\n",
       "    </tr>\n",
       "  </thead>\n",
       "  <tbody>\n",
       "    <tr>\n",
       "      <th>0</th>\n",
       "      <td>208500</td>\n",
       "    </tr>\n",
       "    <tr>\n",
       "      <th>1</th>\n",
       "      <td>181500</td>\n",
       "    </tr>\n",
       "    <tr>\n",
       "      <th>2</th>\n",
       "      <td>223500</td>\n",
       "    </tr>\n",
       "    <tr>\n",
       "      <th>3</th>\n",
       "      <td>140000</td>\n",
       "    </tr>\n",
       "    <tr>\n",
       "      <th>4</th>\n",
       "      <td>250000</td>\n",
       "    </tr>\n",
       "    <tr>\n",
       "      <th>...</th>\n",
       "      <td>...</td>\n",
       "    </tr>\n",
       "    <tr>\n",
       "      <th>1455</th>\n",
       "      <td>175000</td>\n",
       "    </tr>\n",
       "    <tr>\n",
       "      <th>1456</th>\n",
       "      <td>210000</td>\n",
       "    </tr>\n",
       "    <tr>\n",
       "      <th>1457</th>\n",
       "      <td>266500</td>\n",
       "    </tr>\n",
       "    <tr>\n",
       "      <th>1458</th>\n",
       "      <td>142125</td>\n",
       "    </tr>\n",
       "    <tr>\n",
       "      <th>1459</th>\n",
       "      <td>147500</td>\n",
       "    </tr>\n",
       "  </tbody>\n",
       "</table>\n",
       "<p>1460 rows × 1 columns</p>\n",
       "</div>"
      ],
      "text/plain": [
       "      SalePrice\n",
       "0        208500\n",
       "1        181500\n",
       "2        223500\n",
       "3        140000\n",
       "4        250000\n",
       "...         ...\n",
       "1455     175000\n",
       "1456     210000\n",
       "1457     266500\n",
       "1458     142125\n",
       "1459     147500\n",
       "\n",
       "[1460 rows x 1 columns]"
      ]
     },
     "execution_count": 60,
     "metadata": {},
     "output_type": "execute_result"
    }
   ],
   "source": []
  },
  {
   "cell_type": "code",
   "execution_count": 82,
   "metadata": {},
   "outputs": [
    {
     "data": {
      "text/plain": [
       "<matplotlib.axes._subplots.AxesSubplot at 0x2359311d148>"
      ]
     },
     "execution_count": 82,
     "metadata": {},
     "output_type": "execute_result"
    },
    {
     "data": {
      "image/png": "[encoded data removed]",
      "text/plain": [
       "<Figure size 864x576 with 1 Axes>"
      ]
     },
     "metadata": {
      "needs_background": "light"
     },
     "output_type": "display_data"
    }
   ],
   "source": [
    "Test[\"Predicted\"].plot(color=\"r\")\n",
    "data.SalePrice.plot(color=\"b\")"
   ]
  },
  {
   "cell_type": "code",
   "execution_count": null,
   "metadata": {},
   "outputs": [],
   "source": []
  },
  {
   "cell_type": "code",
   "execution_count": null,
   "metadata": {},
   "outputs": [],
   "source": []
  },
  {
   "cell_type": "code",
   "execution_count": null,
   "metadata": {},
   "outputs": [],
   "source": []
  },
  {
   "cell_type": "code",
   "execution_count": null,
   "metadata": {},
   "outputs": [],
   "source": []
  },
  {
   "cell_type": "code",
   "execution_count": null,
   "metadata": {},
   "outputs": [],
   "source": []
  },
  {
   "cell_type": "code",
   "execution_count": null,
   "metadata": {},
   "outputs": [],
   "source": []
  }
 ],
 "metadata": {
  "kernelspec": {
   "display_name": "Python 3",
   "language": "python",
   "name": "python3"
  },
  "language_info": {
   "codemirror_mode": {
    "name": "ipython",
    "version": 3
   },
   "file_extension": ".py",
   "mimetype": "text/x-python",
   "name": "python",
   "nbconvert_exporter": "python",
   "pygments_lexer": "ipython3",
   "version": "3.7.6"
  }
 },
 "nbformat": 4,
 "nbformat_minor": 4
}
